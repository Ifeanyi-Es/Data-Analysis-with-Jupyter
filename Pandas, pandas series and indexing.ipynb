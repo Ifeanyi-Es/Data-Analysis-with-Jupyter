{
 "cells": [
  {
   "cell_type": "markdown",
   "id": "e348c410",
   "metadata": {},
   "source": [
    "importing pandas library"
   ]
  },
  {
   "cell_type": "code",
   "execution_count": 2,
   "id": "4396ae10",
   "metadata": {},
   "outputs": [],
   "source": [
    "import pandas as pd"
   ]
  },
  {
   "cell_type": "code",
   "execution_count": 6,
   "id": "712aeef6",
   "metadata": {},
   "outputs": [
    {
     "data": {
      "text/plain": [
       "['orange', 'pineapple', 'watermelon', 'avocados']"
      ]
     },
     "execution_count": 6,
     "metadata": {},
     "output_type": "execute_result"
    }
   ],
   "source": [
    "#creating a series\n",
    "fruits= ['orange', 'pineapple', 'watermelon','avocados']\n",
    "fruits\n"
   ]
  },
  {
   "cell_type": "code",
   "execution_count": 8,
   "id": "7a14f14f",
   "metadata": {},
   "outputs": [
    {
     "data": {
      "text/plain": [
       "0        orange\n",
       "1     pineapple\n",
       "2    watermelon\n",
       "3      avocados\n",
       "Name: fruits, dtype: object"
      ]
     },
     "execution_count": 8,
     "metadata": {},
     "output_type": "execute_result"
    }
   ],
   "source": [
    "pd.Series((fruits), name='fruits')"
   ]
  },
  {
   "cell_type": "code",
   "execution_count": 9,
   "id": "fb12c03b",
   "metadata": {},
   "outputs": [
    {
     "data": {
      "text/plain": [
       "a        orange\n",
       "b     pineapple\n",
       "c    watermelon\n",
       "d      avocados\n",
       "Name: fruits, dtype: object"
      ]
     },
     "execution_count": 9,
     "metadata": {},
     "output_type": "execute_result"
    }
   ],
   "source": [
    "#indexing a series\n",
    "fruits= ['orange', 'pineapple', 'watermelon','avocados']\n",
    "index = ['a', 'b','c','d']\n",
    "pd.Series((fruits), name='fruits', index=index)"
   ]
  },
  {
   "cell_type": "code",
   "execution_count": null,
   "id": "e583be5d",
   "metadata": {},
   "outputs": [],
   "source": []
  }
 ],
 "metadata": {
  "kernelspec": {
   "display_name": "Python 3 (ipykernel)",
   "language": "python",
   "name": "python3"
  },
  "language_info": {
   "codemirror_mode": {
    "name": "ipython",
    "version": 3
   },
   "file_extension": ".py",
   "mimetype": "text/x-python",
   "name": "python",
   "nbconvert_exporter": "python",
   "pygments_lexer": "ipython3",
   "version": "3.11.5"
  }
 },
 "nbformat": 4,
 "nbformat_minor": 5
}
